{
  "metadata": {
    "kernelspec": {
      "language": "python",
      "display_name": "Python 3",
      "name": "python3"
    },
    "language_info": {
      "name": "python",
      "version": "3.7.12",
      "mimetype": "text/x-python",
      "codemirror_mode": {
        "name": "ipython",
        "version": 3
      },
      "pygments_lexer": "ipython3",
      "nbconvert_exporter": "python",
      "file_extension": ".py"
    },
    "colab": {
      "name": "gender-and-age-detection.ipynb",
      "provenance": [],
      "collapsed_sections": []
    },
    "accelerator": "GPU"
  },
  "nbformat_minor": 0,
  "nbformat": 4,
  "cells": [
    {
      "cell_type": "markdown",
      "source": [
        "# Gender Recognition using Convolutional Neural Networks "
      ],
      "metadata": {
        "papermill": {
          "duration": 0.018246,
          "end_time": "2021-05-25T08:26:55.95285",
          "exception": false,
          "start_time": "2021-05-25T08:26:55.934604",
          "status": "completed"
        },
        "tags": [],
        "id": "bl4NJnFBNHW0"
      }
    },
    {
      "cell_type": "code",
      "source": [
        "from google.colab import drive\n",
        "drive.mount('/content/drive')"
      ],
      "metadata": {
        "colab": {
          "base_uri": "https://localhost:8080/"
        },
        "id": "DI4qDvOrNXlO",
        "outputId": "b99ee196-bf67-463c-bcff-306cd252c770"
      },
      "execution_count": null,
      "outputs": [
        {
          "output_type": "stream",
          "name": "stdout",
          "text": [
            "Drive already mounted at /content/drive; to attempt to forcibly remount, call drive.mount(\"/content/drive\", force_remount=True).\n"
          ]
        }
      ]
    },
    {
      "cell_type": "markdown",
      "source": [
        "# Importing Libraries"
      ],
      "metadata": {
        "papermill": {
          "duration": 0.017389,
          "end_time": "2021-05-25T08:26:55.987546",
          "exception": false,
          "start_time": "2021-05-25T08:26:55.970157",
          "status": "completed"
        },
        "tags": [],
        "id": "DJ2VUbgONHW6"
      }
    },
    {
      "cell_type": "code",
      "source": [
        "import numpy as np # linear algebra\n",
        "import pandas as pd # data processing, CSV file I/O (e.g. pd.read_csv)\n",
        "import matplotlib.pyplot as plt\n",
        "from sklearn.model_selection import train_test_split\n",
        "from sklearn.metrics import accuracy_score, classification_report, confusion_matrix\n",
        "import tensorflow as tf\n",
        "from tensorflow import keras\n",
        "from keras import metrics\n",
        "from tensorflow.keras import layers as L\n",
        "import seaborn as sns"
      ],
      "metadata": {
        "_cell_guid": "b1076dfc-b9ad-4769-8c92-a6c4dae69d19",
        "_uuid": "8f2839f25d086af736a60e9eeb907d3b93b6e0e5",
        "papermill": {
          "duration": 6.321335,
          "end_time": "2021-05-25T08:27:02.326081",
          "exception": false,
          "start_time": "2021-05-25T08:26:56.004746",
          "status": "completed"
        },
        "tags": [],
        "execution": {
          "iopub.status.busy": "2021-12-26T05:14:22.345914Z",
          "iopub.execute_input": "2021-12-26T05:14:22.346283Z",
          "iopub.status.idle": "2021-12-26T05:14:22.363059Z",
          "shell.execute_reply.started": "2021-12-26T05:14:22.346238Z",
          "shell.execute_reply": "2021-12-26T05:14:22.361839Z"
        },
        "trusted": true,
        "id": "e3Vlz_8NNHW7"
      },
      "execution_count": null,
      "outputs": []
    },
    {
      "cell_type": "markdown",
      "source": [
        "# Data Preparation"
      ],
      "metadata": {
        "papermill": {
          "duration": 0.017555,
          "end_time": "2021-05-25T08:27:02.361807",
          "exception": false,
          "start_time": "2021-05-25T08:27:02.344252",
          "status": "completed"
        },
        "tags": [],
        "id": "Z-QSm6zlNHW9"
      }
    },
    {
      "cell_type": "code",
      "source": [
        "df=pd.read_csv(\"/content/drive/MyDrive/genderDetect/age_gender.csv\")\n",
        "df.head()"
      ],
      "metadata": {
        "papermill": {
          "duration": 3.645751,
          "end_time": "2021-05-25T08:27:06.025346",
          "exception": false,
          "start_time": "2021-05-25T08:27:02.379595",
          "status": "completed"
        },
        "tags": [],
        "execution": {
          "iopub.status.busy": "2021-12-26T03:55:07.714932Z",
          "iopub.execute_input": "2021-12-26T03:55:07.715297Z",
          "iopub.status.idle": "2021-12-26T03:55:11.909751Z",
          "shell.execute_reply.started": "2021-12-26T03:55:07.715231Z",
          "shell.execute_reply": "2021-12-26T03:55:11.90875Z"
        },
        "trusted": true,
        "colab": {
          "base_uri": "https://localhost:8080/",
          "height": 206
        },
        "id": "khDnv_kLNHW9",
        "outputId": "7122ec22-74d1-4058-94bb-f5f818607829"
      },
      "execution_count": null,
      "outputs": [
        {
          "output_type": "execute_result",
          "data": {
            "text/html": [
              "\n",
              "  <div id=\"df-1b894d66-53b2-4112-acc8-7652920e68df\">\n",
              "    <div class=\"colab-df-container\">\n",
              "      <div>\n",
              "<style scoped>\n",
              "    .dataframe tbody tr th:only-of-type {\n",
              "        vertical-align: middle;\n",
              "    }\n",
              "\n",
              "    .dataframe tbody tr th {\n",
              "        vertical-align: top;\n",
              "    }\n",
              "\n",
              "    .dataframe thead th {\n",
              "        text-align: right;\n",
              "    }\n",
              "</style>\n",
              "<table border=\"1\" class=\"dataframe\">\n",
              "  <thead>\n",
              "    <tr style=\"text-align: right;\">\n",
              "      <th></th>\n",
              "      <th>age</th>\n",
              "      <th>ethnicity</th>\n",
              "      <th>gender</th>\n",
              "      <th>img_name</th>\n",
              "      <th>pixels</th>\n",
              "    </tr>\n",
              "  </thead>\n",
              "  <tbody>\n",
              "    <tr>\n",
              "      <th>0</th>\n",
              "      <td>1</td>\n",
              "      <td>2</td>\n",
              "      <td>0</td>\n",
              "      <td>20161219203650636.jpg.chip.jpg</td>\n",
              "      <td>129 128 128 126 127 130 133 135 139 142 145 14...</td>\n",
              "    </tr>\n",
              "    <tr>\n",
              "      <th>1</th>\n",
              "      <td>1</td>\n",
              "      <td>2</td>\n",
              "      <td>0</td>\n",
              "      <td>20161219222752047.jpg.chip.jpg</td>\n",
              "      <td>164 74 111 168 169 171 175 182 184 188 193 199...</td>\n",
              "    </tr>\n",
              "    <tr>\n",
              "      <th>2</th>\n",
              "      <td>1</td>\n",
              "      <td>2</td>\n",
              "      <td>0</td>\n",
              "      <td>20161219222832191.jpg.chip.jpg</td>\n",
              "      <td>67 70 71 70 69 67 70 79 90 103 116 132 145 155...</td>\n",
              "    </tr>\n",
              "    <tr>\n",
              "      <th>3</th>\n",
              "      <td>1</td>\n",
              "      <td>2</td>\n",
              "      <td>0</td>\n",
              "      <td>20161220144911423.jpg.chip.jpg</td>\n",
              "      <td>193 197 198 200 199 200 202 203 204 205 208 21...</td>\n",
              "    </tr>\n",
              "    <tr>\n",
              "      <th>4</th>\n",
              "      <td>1</td>\n",
              "      <td>2</td>\n",
              "      <td>0</td>\n",
              "      <td>20161220144914327.jpg.chip.jpg</td>\n",
              "      <td>202 205 209 210 209 209 210 211 212 214 218 21...</td>\n",
              "    </tr>\n",
              "  </tbody>\n",
              "</table>\n",
              "</div>\n",
              "      <button class=\"colab-df-convert\" onclick=\"convertToInteractive('df-1b894d66-53b2-4112-acc8-7652920e68df')\"\n",
              "              title=\"Convert this dataframe to an interactive table.\"\n",
              "              style=\"display:none;\">\n",
              "        \n",
              "  <svg xmlns=\"http://www.w3.org/2000/svg\" height=\"24px\"viewBox=\"0 0 24 24\"\n",
              "       width=\"24px\">\n",
              "    <path d=\"M0 0h24v24H0V0z\" fill=\"none\"/>\n",
              "    <path d=\"M18.56 5.44l.94 2.06.94-2.06 2.06-.94-2.06-.94-.94-2.06-.94 2.06-2.06.94zm-11 1L8.5 8.5l.94-2.06 2.06-.94-2.06-.94L8.5 2.5l-.94 2.06-2.06.94zm10 10l.94 2.06.94-2.06 2.06-.94-2.06-.94-.94-2.06-.94 2.06-2.06.94z\"/><path d=\"M17.41 7.96l-1.37-1.37c-.4-.4-.92-.59-1.43-.59-.52 0-1.04.2-1.43.59L10.3 9.45l-7.72 7.72c-.78.78-.78 2.05 0 2.83L4 21.41c.39.39.9.59 1.41.59.51 0 1.02-.2 1.41-.59l7.78-7.78 2.81-2.81c.8-.78.8-2.07 0-2.86zM5.41 20L4 18.59l7.72-7.72 1.47 1.35L5.41 20z\"/>\n",
              "  </svg>\n",
              "      </button>\n",
              "      \n",
              "  <style>\n",
              "    .colab-df-container {\n",
              "      display:flex;\n",
              "      flex-wrap:wrap;\n",
              "      gap: 12px;\n",
              "    }\n",
              "\n",
              "    .colab-df-convert {\n",
              "      background-color: #E8F0FE;\n",
              "      border: none;\n",
              "      border-radius: 50%;\n",
              "      cursor: pointer;\n",
              "      display: none;\n",
              "      fill: #1967D2;\n",
              "      height: 32px;\n",
              "      padding: 0 0 0 0;\n",
              "      width: 32px;\n",
              "    }\n",
              "\n",
              "    .colab-df-convert:hover {\n",
              "      background-color: #E2EBFA;\n",
              "      box-shadow: 0px 1px 2px rgba(60, 64, 67, 0.3), 0px 1px 3px 1px rgba(60, 64, 67, 0.15);\n",
              "      fill: #174EA6;\n",
              "    }\n",
              "\n",
              "    [theme=dark] .colab-df-convert {\n",
              "      background-color: #3B4455;\n",
              "      fill: #D2E3FC;\n",
              "    }\n",
              "\n",
              "    [theme=dark] .colab-df-convert:hover {\n",
              "      background-color: #434B5C;\n",
              "      box-shadow: 0px 1px 3px 1px rgba(0, 0, 0, 0.15);\n",
              "      filter: drop-shadow(0px 1px 2px rgba(0, 0, 0, 0.3));\n",
              "      fill: #FFFFFF;\n",
              "    }\n",
              "  </style>\n",
              "\n",
              "      <script>\n",
              "        const buttonEl =\n",
              "          document.querySelector('#df-1b894d66-53b2-4112-acc8-7652920e68df button.colab-df-convert');\n",
              "        buttonEl.style.display =\n",
              "          google.colab.kernel.accessAllowed ? 'block' : 'none';\n",
              "\n",
              "        async function convertToInteractive(key) {\n",
              "          const element = document.querySelector('#df-1b894d66-53b2-4112-acc8-7652920e68df');\n",
              "          const dataTable =\n",
              "            await google.colab.kernel.invokeFunction('convertToInteractive',\n",
              "                                                     [key], {});\n",
              "          if (!dataTable) return;\n",
              "\n",
              "          const docLinkHtml = 'Like what you see? Visit the ' +\n",
              "            '<a target=\"_blank\" href=https://colab.research.google.com/notebooks/data_table.ipynb>data table notebook</a>'\n",
              "            + ' to learn more about interactive tables.';\n",
              "          element.innerHTML = '';\n",
              "          dataTable['output_type'] = 'display_data';\n",
              "          await google.colab.output.renderOutput(dataTable, element);\n",
              "          const docLink = document.createElement('div');\n",
              "          docLink.innerHTML = docLinkHtml;\n",
              "          element.appendChild(docLink);\n",
              "        }\n",
              "      </script>\n",
              "    </div>\n",
              "  </div>\n",
              "  "
            ],
            "text/plain": [
              "   age  ...                                             pixels\n",
              "0    1  ...  129 128 128 126 127 130 133 135 139 142 145 14...\n",
              "1    1  ...  164 74 111 168 169 171 175 182 184 188 193 199...\n",
              "2    1  ...  67 70 71 70 69 67 70 79 90 103 116 132 145 155...\n",
              "3    1  ...  193 197 198 200 199 200 202 203 204 205 208 21...\n",
              "4    1  ...  202 205 209 210 209 209 210 211 212 214 218 21...\n",
              "\n",
              "[5 rows x 5 columns]"
            ]
          },
          "metadata": {},
          "execution_count": 55
        }
      ]
    },
    {
      "cell_type": "code",
      "source": [
        "df.info()"
      ],
      "metadata": {
        "papermill": {
          "duration": 0.048985,
          "end_time": "2021-05-25T08:27:06.092887",
          "exception": false,
          "start_time": "2021-05-25T08:27:06.043902",
          "status": "completed"
        },
        "tags": [],
        "execution": {
          "iopub.status.busy": "2021-12-26T03:55:11.911353Z",
          "iopub.execute_input": "2021-12-26T03:55:11.912179Z",
          "iopub.status.idle": "2021-12-26T03:55:11.949989Z",
          "shell.execute_reply.started": "2021-12-26T03:55:11.912124Z",
          "shell.execute_reply": "2021-12-26T03:55:11.948872Z"
        },
        "trusted": true,
        "colab": {
          "base_uri": "https://localhost:8080/"
        },
        "id": "_k5X7V0ZNHW-",
        "outputId": "ce5aba5f-7acc-42b8-cc19-1e48701bb97e"
      },
      "execution_count": null,
      "outputs": [
        {
          "output_type": "stream",
          "name": "stdout",
          "text": [
            "<class 'pandas.core.frame.DataFrame'>\n",
            "RangeIndex: 23705 entries, 0 to 23704\n",
            "Data columns (total 5 columns):\n",
            " #   Column     Non-Null Count  Dtype \n",
            "---  ------     --------------  ----- \n",
            " 0   age        23705 non-null  int64 \n",
            " 1   ethnicity  23705 non-null  int64 \n",
            " 2   gender     23705 non-null  int64 \n",
            " 3   img_name   23705 non-null  object\n",
            " 4   pixels     23705 non-null  object\n",
            "dtypes: int64(3), object(2)\n",
            "memory usage: 926.1+ KB\n"
          ]
        }
      ]
    },
    {
      "cell_type": "code",
      "source": [
        "df.describe()"
      ],
      "metadata": {
        "papermill": {
          "duration": 0.047932,
          "end_time": "2021-05-25T08:27:06.160854",
          "exception": false,
          "start_time": "2021-05-25T08:27:06.112922",
          "status": "completed"
        },
        "tags": [],
        "execution": {
          "iopub.status.busy": "2021-12-26T03:55:11.952569Z",
          "iopub.execute_input": "2021-12-26T03:55:11.952981Z",
          "iopub.status.idle": "2021-12-26T03:55:11.984674Z",
          "shell.execute_reply.started": "2021-12-26T03:55:11.952927Z",
          "shell.execute_reply": "2021-12-26T03:55:11.983813Z"
        },
        "trusted": true,
        "colab": {
          "base_uri": "https://localhost:8080/",
          "height": 299
        },
        "id": "uVzdZAsqNHW-",
        "outputId": "f60cb444-74f1-47fc-8d35-95039a13dcd4"
      },
      "execution_count": null,
      "outputs": [
        {
          "output_type": "execute_result",
          "data": {
            "text/html": [
              "\n",
              "  <div id=\"df-6516003a-0023-4679-9381-273cf2d10495\">\n",
              "    <div class=\"colab-df-container\">\n",
              "      <div>\n",
              "<style scoped>\n",
              "    .dataframe tbody tr th:only-of-type {\n",
              "        vertical-align: middle;\n",
              "    }\n",
              "\n",
              "    .dataframe tbody tr th {\n",
              "        vertical-align: top;\n",
              "    }\n",
              "\n",
              "    .dataframe thead th {\n",
              "        text-align: right;\n",
              "    }\n",
              "</style>\n",
              "<table border=\"1\" class=\"dataframe\">\n",
              "  <thead>\n",
              "    <tr style=\"text-align: right;\">\n",
              "      <th></th>\n",
              "      <th>age</th>\n",
              "      <th>ethnicity</th>\n",
              "      <th>gender</th>\n",
              "    </tr>\n",
              "  </thead>\n",
              "  <tbody>\n",
              "    <tr>\n",
              "      <th>count</th>\n",
              "      <td>23705.000000</td>\n",
              "      <td>23705.000000</td>\n",
              "      <td>23705.000000</td>\n",
              "    </tr>\n",
              "    <tr>\n",
              "      <th>mean</th>\n",
              "      <td>33.300907</td>\n",
              "      <td>1.269226</td>\n",
              "      <td>0.477283</td>\n",
              "    </tr>\n",
              "    <tr>\n",
              "      <th>std</th>\n",
              "      <td>19.885708</td>\n",
              "      <td>1.345638</td>\n",
              "      <td>0.499494</td>\n",
              "    </tr>\n",
              "    <tr>\n",
              "      <th>min</th>\n",
              "      <td>1.000000</td>\n",
              "      <td>0.000000</td>\n",
              "      <td>0.000000</td>\n",
              "    </tr>\n",
              "    <tr>\n",
              "      <th>25%</th>\n",
              "      <td>23.000000</td>\n",
              "      <td>0.000000</td>\n",
              "      <td>0.000000</td>\n",
              "    </tr>\n",
              "    <tr>\n",
              "      <th>50%</th>\n",
              "      <td>29.000000</td>\n",
              "      <td>1.000000</td>\n",
              "      <td>0.000000</td>\n",
              "    </tr>\n",
              "    <tr>\n",
              "      <th>75%</th>\n",
              "      <td>45.000000</td>\n",
              "      <td>2.000000</td>\n",
              "      <td>1.000000</td>\n",
              "    </tr>\n",
              "    <tr>\n",
              "      <th>max</th>\n",
              "      <td>116.000000</td>\n",
              "      <td>4.000000</td>\n",
              "      <td>1.000000</td>\n",
              "    </tr>\n",
              "  </tbody>\n",
              "</table>\n",
              "</div>\n",
              "      <button class=\"colab-df-convert\" onclick=\"convertToInteractive('df-6516003a-0023-4679-9381-273cf2d10495')\"\n",
              "              title=\"Convert this dataframe to an interactive table.\"\n",
              "              style=\"display:none;\">\n",
              "        \n",
              "  <svg xmlns=\"http://www.w3.org/2000/svg\" height=\"24px\"viewBox=\"0 0 24 24\"\n",
              "       width=\"24px\">\n",
              "    <path d=\"M0 0h24v24H0V0z\" fill=\"none\"/>\n",
              "    <path d=\"M18.56 5.44l.94 2.06.94-2.06 2.06-.94-2.06-.94-.94-2.06-.94 2.06-2.06.94zm-11 1L8.5 8.5l.94-2.06 2.06-.94-2.06-.94L8.5 2.5l-.94 2.06-2.06.94zm10 10l.94 2.06.94-2.06 2.06-.94-2.06-.94-.94-2.06-.94 2.06-2.06.94z\"/><path d=\"M17.41 7.96l-1.37-1.37c-.4-.4-.92-.59-1.43-.59-.52 0-1.04.2-1.43.59L10.3 9.45l-7.72 7.72c-.78.78-.78 2.05 0 2.83L4 21.41c.39.39.9.59 1.41.59.51 0 1.02-.2 1.41-.59l7.78-7.78 2.81-2.81c.8-.78.8-2.07 0-2.86zM5.41 20L4 18.59l7.72-7.72 1.47 1.35L5.41 20z\"/>\n",
              "  </svg>\n",
              "      </button>\n",
              "      \n",
              "  <style>\n",
              "    .colab-df-container {\n",
              "      display:flex;\n",
              "      flex-wrap:wrap;\n",
              "      gap: 12px;\n",
              "    }\n",
              "\n",
              "    .colab-df-convert {\n",
              "      background-color: #E8F0FE;\n",
              "      border: none;\n",
              "      border-radius: 50%;\n",
              "      cursor: pointer;\n",
              "      display: none;\n",
              "      fill: #1967D2;\n",
              "      height: 32px;\n",
              "      padding: 0 0 0 0;\n",
              "      width: 32px;\n",
              "    }\n",
              "\n",
              "    .colab-df-convert:hover {\n",
              "      background-color: #E2EBFA;\n",
              "      box-shadow: 0px 1px 2px rgba(60, 64, 67, 0.3), 0px 1px 3px 1px rgba(60, 64, 67, 0.15);\n",
              "      fill: #174EA6;\n",
              "    }\n",
              "\n",
              "    [theme=dark] .colab-df-convert {\n",
              "      background-color: #3B4455;\n",
              "      fill: #D2E3FC;\n",
              "    }\n",
              "\n",
              "    [theme=dark] .colab-df-convert:hover {\n",
              "      background-color: #434B5C;\n",
              "      box-shadow: 0px 1px 3px 1px rgba(0, 0, 0, 0.15);\n",
              "      filter: drop-shadow(0px 1px 2px rgba(0, 0, 0, 0.3));\n",
              "      fill: #FFFFFF;\n",
              "    }\n",
              "  </style>\n",
              "\n",
              "      <script>\n",
              "        const buttonEl =\n",
              "          document.querySelector('#df-6516003a-0023-4679-9381-273cf2d10495 button.colab-df-convert');\n",
              "        buttonEl.style.display =\n",
              "          google.colab.kernel.accessAllowed ? 'block' : 'none';\n",
              "\n",
              "        async function convertToInteractive(key) {\n",
              "          const element = document.querySelector('#df-6516003a-0023-4679-9381-273cf2d10495');\n",
              "          const dataTable =\n",
              "            await google.colab.kernel.invokeFunction('convertToInteractive',\n",
              "                                                     [key], {});\n",
              "          if (!dataTable) return;\n",
              "\n",
              "          const docLinkHtml = 'Like what you see? Visit the ' +\n",
              "            '<a target=\"_blank\" href=https://colab.research.google.com/notebooks/data_table.ipynb>data table notebook</a>'\n",
              "            + ' to learn more about interactive tables.';\n",
              "          element.innerHTML = '';\n",
              "          dataTable['output_type'] = 'display_data';\n",
              "          await google.colab.output.renderOutput(dataTable, element);\n",
              "          const docLink = document.createElement('div');\n",
              "          docLink.innerHTML = docLinkHtml;\n",
              "          element.appendChild(docLink);\n",
              "        }\n",
              "      </script>\n",
              "    </div>\n",
              "  </div>\n",
              "  "
            ],
            "text/plain": [
              "                age     ethnicity        gender\n",
              "count  23705.000000  23705.000000  23705.000000\n",
              "mean      33.300907      1.269226      0.477283\n",
              "std       19.885708      1.345638      0.499494\n",
              "min        1.000000      0.000000      0.000000\n",
              "25%       23.000000      0.000000      0.000000\n",
              "50%       29.000000      1.000000      0.000000\n",
              "75%       45.000000      2.000000      1.000000\n",
              "max      116.000000      4.000000      1.000000"
            ]
          },
          "metadata": {},
          "execution_count": 57
        }
      ]
    },
    {
      "cell_type": "markdown",
      "source": [
        "# Distribution and Normalization"
      ],
      "metadata": {
        "papermill": {
          "duration": 0.018795,
          "end_time": "2021-05-25T08:27:06.198889",
          "exception": false,
          "start_time": "2021-05-25T08:27:06.180094",
          "status": "completed"
        },
        "tags": [],
        "id": "JFsRnLXuNHW_"
      }
    },
    {
      "cell_type": "code",
      "source": [
        "for i in ['age','ethnicity','gender']:\n",
        "    plt.figure(figsize=(5,5))\n",
        "    plt.hist(df[i])\n",
        "    plt.xlabel(i)\n",
        "    plt.ylabel(\"count\")"
      ],
      "metadata": {
        "papermill": {
          "duration": 0.656539,
          "end_time": "2021-05-25T08:27:06.87451",
          "exception": false,
          "start_time": "2021-05-25T08:27:06.217971",
          "status": "completed"
        },
        "tags": [],
        "execution": {
          "iopub.status.busy": "2021-12-26T04:50:05.668942Z",
          "iopub.execute_input": "2021-12-26T04:50:05.669868Z",
          "iopub.status.idle": "2021-12-26T04:50:06.355077Z",
          "shell.execute_reply.started": "2021-12-26T04:50:05.669810Z",
          "shell.execute_reply": "2021-12-26T04:50:06.354057Z"
        },
        "trusted": true,
        "colab": {
          "base_uri": "https://localhost:8080/",
          "height": 968
        },
        "id": "be6hRlKsNHXA",
        "outputId": "04286a6f-7b05-4b62-b9d0-26deea8684bc"
      },
      "execution_count": null,
      "outputs": [
        {
          "output_type": "display_data",
          "data": {
            "image/png": "[encoded data removed]",
            "text/plain": [
              "<Figure size 360x360 with 1 Axes>"
            ]
          },
          "metadata": {
            "needs_background": "light"
          }
        },
        {
          "output_type": "display_data",
          "data": {
            "image/png": "[encoded data removed]",
            "text/plain": [
              "<Figure size 360x360 with 1 Axes>"
            ]
          },
          "metadata": {
            "needs_background": "light"
          }
        },
        {
          "output_type": "display_data",
          "data": {
            "image/png": "[encoded data removed]",
            "text/plain": [
              "<Figure size 360x360 with 1 Axes>"
            ]
          },
          "metadata": {
            "needs_background": "light"
          }
        }
      ]
    },
    {
      "cell_type": "code",
      "source": [
        "df['pixels']=df['pixels'].apply(lambda x:  np.array(x.split(), dtype=\"float32\"))"
      ],
      "metadata": {
        "papermill": {
          "duration": 16.361015,
          "end_time": "2021-05-25T08:27:23.256497",
          "exception": false,
          "start_time": "2021-05-25T08:27:06.895482",
          "status": "completed"
        },
        "tags": [],
        "execution": {
          "iopub.status.busy": "2021-12-26T03:55:12.672093Z",
          "iopub.execute_input": "2021-12-26T03:55:12.673086Z",
          "iopub.status.idle": "2021-12-26T03:55:31.328121Z",
          "shell.execute_reply.started": "2021-12-26T03:55:12.67304Z",
          "shell.execute_reply": "2021-12-26T03:55:31.327196Z"
        },
        "trusted": true,
        "id": "M_4NRf4vNHXB"
      },
      "execution_count": null,
      "outputs": []
    },
    {
      "cell_type": "code",
      "source": [
        "df['pixels']=df['pixels']/255"
      ],
      "metadata": {
        "papermill": {
          "duration": 0.164593,
          "end_time": "2021-05-25T08:27:23.441721",
          "exception": false,
          "start_time": "2021-05-25T08:27:23.277128",
          "status": "completed"
        },
        "tags": [],
        "execution": {
          "iopub.status.busy": "2021-12-26T03:55:31.329878Z",
          "iopub.execute_input": "2021-12-26T03:55:31.330202Z",
          "iopub.status.idle": "2021-12-26T03:55:31.487531Z",
          "shell.execute_reply.started": "2021-12-26T03:55:31.330156Z",
          "shell.execute_reply": "2021-12-26T03:55:31.486683Z"
        },
        "trusted": true,
        "id": "ywsAHmFdNHXB"
      },
      "execution_count": null,
      "outputs": []
    },
    {
      "cell_type": "markdown",
      "source": [
        "# Gender Recognition Model Building"
      ],
      "metadata": {
        "papermill": {
          "duration": 0.020244,
          "end_time": "2021-05-25T08:27:23.482802",
          "exception": false,
          "start_time": "2021-05-25T08:27:23.462558",
          "status": "completed"
        },
        "tags": [],
        "id": "_DB2hdJJNHXC"
      }
    },
    {
      "cell_type": "code",
      "source": [
        "X=np.array(df['pixels'].tolist())\n",
        "X=X.reshape(X.shape[0],48,48,1)"
      ],
      "metadata": {
        "papermill": {
          "duration": 0.091486,
          "end_time": "2021-05-25T08:27:23.59462",
          "exception": false,
          "start_time": "2021-05-25T08:27:23.503134",
          "status": "completed"
        },
        "tags": [],
        "execution": {
          "iopub.status.busy": "2021-12-26T03:55:31.488895Z",
          "iopub.execute_input": "2021-12-26T03:55:31.489247Z",
          "iopub.status.idle": "2021-12-26T03:55:31.582585Z",
          "shell.execute_reply.started": "2021-12-26T03:55:31.489212Z",
          "shell.execute_reply": "2021-12-26T03:55:31.581718Z"
        },
        "trusted": true,
        "id": "aKcn3aB2NHXC"
      },
      "execution_count": null,
      "outputs": []
    },
    {
      "cell_type": "code",
      "source": [
        "y=df['gender']\n",
        "X_train, X_test, y_train, y_test = train_test_split(X, y, test_size=0.2, random_state=1)"
      ],
      "metadata": {
        "papermill": {
          "duration": 0.123443,
          "end_time": "2021-05-25T08:27:23.739141",
          "exception": false,
          "start_time": "2021-05-25T08:27:23.615698",
          "status": "completed"
        },
        "tags": [],
        "execution": {
          "iopub.status.busy": "2021-12-26T03:55:31.58467Z",
          "iopub.execute_input": "2021-12-26T03:55:31.584933Z",
          "iopub.status.idle": "2021-12-26T03:55:31.883942Z",
          "shell.execute_reply.started": "2021-12-26T03:55:31.584899Z",
          "shell.execute_reply": "2021-12-26T03:55:31.882898Z"
        },
        "trusted": true,
        "id": "xcS2m5bkNHXC"
      },
      "execution_count": null,
      "outputs": []
    },
    {
      "cell_type": "code",
      "source": [
        "input=X_train.shape[1:]\n",
        "model = tf.keras.Sequential([\n",
        "    L.InputLayer(input_shape=input),\n",
        "    L.Conv2D(32, (3, 3), activation='relu', input_shape=(32, 32, 3)),\n",
        "    L.BatchNormalization(),\n",
        "    L.MaxPooling2D((2, 2)),\n",
        "    L.Conv2D(64, (3, 3), activation='relu'),\n",
        "    L.MaxPooling2D((2, 2)),\n",
        "    L.Flatten(),\n",
        "    L.Dense(64, activation='relu'),\n",
        "    L.Dropout(rate=0.5),\n",
        "    L.Dense(1, activation='sigmoid')\n",
        "])"
      ],
      "metadata": {
        "papermill": {
          "duration": 0.155658,
          "end_time": "2021-05-25T08:27:23.915503",
          "exception": false,
          "start_time": "2021-05-25T08:27:23.759845",
          "status": "completed"
        },
        "tags": [],
        "execution": {
          "iopub.status.busy": "2021-12-26T03:55:31.887373Z",
          "iopub.execute_input": "2021-12-26T03:55:31.887762Z",
          "iopub.status.idle": "2021-12-26T03:55:32.068178Z",
          "shell.execute_reply.started": "2021-12-26T03:55:31.887708Z",
          "shell.execute_reply": "2021-12-26T03:55:32.067179Z"
        },
        "trusted": true,
        "id": "zQJ6WB4WNHXD"
      },
      "execution_count": null,
      "outputs": []
    },
    {
      "cell_type": "code",
      "source": [
        "model.summary()"
      ],
      "metadata": {
        "papermill": {
          "duration": 0.033075,
          "end_time": "2021-05-25T08:27:23.969959",
          "exception": false,
          "start_time": "2021-05-25T08:27:23.936884",
          "status": "completed"
        },
        "tags": [],
        "execution": {
          "iopub.status.busy": "2021-12-26T03:55:32.069391Z",
          "iopub.execute_input": "2021-12-26T03:55:32.069636Z",
          "iopub.status.idle": "2021-12-26T03:55:32.08047Z",
          "shell.execute_reply.started": "2021-12-26T03:55:32.069603Z",
          "shell.execute_reply": "2021-12-26T03:55:32.078321Z"
        },
        "trusted": true,
        "colab": {
          "base_uri": "https://localhost:8080/"
        },
        "id": "JE2q49qGNHXD",
        "outputId": "d9d860e5-5271-40bc-be7d-4ee252528b57"
      },
      "execution_count": null,
      "outputs": [
        {
          "output_type": "stream",
          "name": "stdout",
          "text": [
            "Model: \"sequential_1\"\n",
            "_________________________________________________________________\n",
            " Layer (type)                Output Shape              Param #   \n",
            "=================================================================\n",
            " conv2d_2 (Conv2D)           (None, 46, 46, 32)        320       \n",
            "                                                                 \n",
            " batch_normalization_1 (Batc  (None, 46, 46, 32)       128       \n",
            " hNormalization)                                                 \n",
            "                                                                 \n",
            " max_pooling2d_2 (MaxPooling  (None, 23, 23, 32)       0         \n",
            " 2D)                                                             \n",
            "                                                                 \n",
            " conv2d_3 (Conv2D)           (None, 21, 21, 64)        18496     \n",
            "                                                                 \n",
            " max_pooling2d_3 (MaxPooling  (None, 10, 10, 64)       0         \n",
            " 2D)                                                             \n",
            "                                                                 \n",
            " flatten_1 (Flatten)         (None, 6400)              0         \n",
            "                                                                 \n",
            " dense_2 (Dense)             (None, 64)                409664    \n",
            "                                                                 \n",
            " dropout_1 (Dropout)         (None, 64)                0         \n",
            "                                                                 \n",
            " dense_3 (Dense)             (None, 1)                 65        \n",
            "                                                                 \n",
            "=================================================================\n",
            "Total params: 428,673\n",
            "Trainable params: 428,609\n",
            "Non-trainable params: 64\n",
            "_________________________________________________________________\n"
          ]
        }
      ]
    },
    {
      "cell_type": "markdown",
      "source": [
        "# Feeding Model & Evaluation"
      ],
      "metadata": {
        "papermill": {
          "duration": 0.021478,
          "end_time": "2021-05-25T08:27:24.012402",
          "exception": false,
          "start_time": "2021-05-25T08:27:23.990924",
          "status": "completed"
        },
        "tags": [],
        "id": "4tkVg_TsNHXE"
      }
    },
    {
      "cell_type": "code",
      "source": [
        "model.compile(optimizer='sgd',\n",
        "              loss=tf.keras.losses.BinaryCrossentropy(),\n",
        "              metrics=['accuracy'])\n",
        "callback= tf.keras.callbacks.EarlyStopping(monitor='val_loss', min_delta=0.01, patience=8, verbose=0,restore_best_weights=True)\n",
        "history = model.fit( X_train, y_train, epochs=20, batch_size=64,validation_split=0.1, callbacks=[callback],verbose=1)"
      ],
      "metadata": {
        "papermill": {
          "duration": 576.283692,
          "end_time": "2021-05-25T08:37:00.31713",
          "exception": false,
          "start_time": "2021-05-25T08:27:24.033438",
          "status": "completed"
        },
        "tags": [],
        "execution": {
          "iopub.status.busy": "2021-12-26T03:55:32.082104Z",
          "iopub.execute_input": "2021-12-26T03:55:32.08256Z",
          "iopub.status.idle": "2021-12-26T04:01:05.858739Z",
          "shell.execute_reply.started": "2021-12-26T03:55:32.08252Z",
          "shell.execute_reply": "2021-12-26T04:01:05.857572Z"
        },
        "trusted": true,
        "colab": {
          "base_uri": "https://localhost:8080/"
        },
        "id": "YpZ9A9MSNHXE",
        "outputId": "f4f3a76c-3827-4845-e021-e2453bb8215f"
      },
      "execution_count": null,
      "outputs": [
        {
          "output_type": "stream",
          "name": "stdout",
          "text": [
            "Epoch 1/20\n",
            "267/267 [==============================] - 8s 24ms/step - loss: 0.5228 - accuracy: 0.7314 - val_loss: 0.5931 - val_accuracy: 0.8065\n",
            "Epoch 2/20\n",
            "267/267 [==============================] - 7s 27ms/step - loss: 0.4028 - accuracy: 0.8191 - val_loss: 0.3960 - val_accuracy: 0.8366\n",
            "Epoch 3/20\n",
            "267/267 [==============================] - 7s 26ms/step - loss: 0.3590 - accuracy: 0.8402 - val_loss: 0.3306 - val_accuracy: 0.8445\n",
            "Epoch 4/20\n",
            "267/267 [==============================] - 6s 24ms/step - loss: 0.3319 - accuracy: 0.8521 - val_loss: 0.3074 - val_accuracy: 0.8619\n",
            "Epoch 5/20\n",
            "267/267 [==============================] - 6s 24ms/step - loss: 0.3178 - accuracy: 0.8605 - val_loss: 0.2895 - val_accuracy: 0.8708\n",
            "Epoch 6/20\n",
            "267/267 [==============================] - 5s 19ms/step - loss: 0.3028 - accuracy: 0.8704 - val_loss: 0.2918 - val_accuracy: 0.8672\n",
            "Epoch 7/20\n",
            "267/267 [==============================] - 4s 16ms/step - loss: 0.2923 - accuracy: 0.8732 - val_loss: 0.2751 - val_accuracy: 0.8819\n",
            "Epoch 8/20\n",
            "267/267 [==============================] - 4s 16ms/step - loss: 0.2810 - accuracy: 0.8771 - val_loss: 0.2727 - val_accuracy: 0.8788\n",
            "Epoch 9/20\n",
            "267/267 [==============================] - 4s 17ms/step - loss: 0.2742 - accuracy: 0.8819 - val_loss: 0.2697 - val_accuracy: 0.8814\n",
            "Epoch 10/20\n",
            "267/267 [==============================] - 4s 17ms/step - loss: 0.2671 - accuracy: 0.8876 - val_loss: 0.2651 - val_accuracy: 0.8809\n",
            "Epoch 11/20\n",
            "267/267 [==============================] - 4s 17ms/step - loss: 0.2616 - accuracy: 0.8919 - val_loss: 0.2563 - val_accuracy: 0.8882\n",
            "Epoch 12/20\n",
            "267/267 [==============================] - 4s 16ms/step - loss: 0.2509 - accuracy: 0.8923 - val_loss: 0.2601 - val_accuracy: 0.8830\n",
            "Epoch 13/20\n",
            "267/267 [==============================] - 4s 16ms/step - loss: 0.2467 - accuracy: 0.8975 - val_loss: 0.2619 - val_accuracy: 0.8877\n",
            "Epoch 14/20\n",
            "267/267 [==============================] - 4s 17ms/step - loss: 0.2393 - accuracy: 0.8993 - val_loss: 0.2857 - val_accuracy: 0.8693\n",
            "Epoch 15/20\n",
            "267/267 [==============================] - 4s 16ms/step - loss: 0.2347 - accuracy: 0.9033 - val_loss: 0.2498 - val_accuracy: 0.8898\n",
            "Epoch 16/20\n",
            "267/267 [==============================] - 4s 16ms/step - loss: 0.2257 - accuracy: 0.9064 - val_loss: 0.2488 - val_accuracy: 0.8888\n",
            "Epoch 17/20\n",
            "267/267 [==============================] - 4s 17ms/step - loss: 0.2231 - accuracy: 0.9095 - val_loss: 0.2619 - val_accuracy: 0.8851\n",
            "Epoch 18/20\n",
            "267/267 [==============================] - 4s 16ms/step - loss: 0.2169 - accuracy: 0.9096 - val_loss: 0.2471 - val_accuracy: 0.8930\n",
            "Epoch 19/20\n",
            "267/267 [==============================] - 4s 17ms/step - loss: 0.2125 - accuracy: 0.9139 - val_loss: 0.2499 - val_accuracy: 0.8904\n"
          ]
        }
      ]
    },
    {
      "cell_type": "code",
      "source": [
        "plt.plot(history.history['accuracy'], label='accuracy')\n",
        "plt.plot(history.history['val_accuracy'], label = 'val_accuracy')\n",
        "plt.xlabel('Epoch')\n",
        "plt.ylabel('Accuracy')\n",
        "plt.ylim([0.5, 1])\n",
        "plt.legend(loc='lower right')"
      ],
      "metadata": {
        "papermill": {
          "duration": 1.860664,
          "end_time": "2021-05-25T08:37:03.83327",
          "exception": false,
          "start_time": "2021-05-25T08:37:01.972606",
          "status": "completed"
        },
        "tags": [],
        "execution": {
          "iopub.status.busy": "2021-12-26T04:01:05.861101Z",
          "iopub.execute_input": "2021-12-26T04:01:05.86159Z",
          "iopub.status.idle": "2021-12-26T04:01:06.126194Z",
          "shell.execute_reply.started": "2021-12-26T04:01:05.861539Z",
          "shell.execute_reply": "2021-12-26T04:01:06.125412Z"
        },
        "trusted": true,
        "colab": {
          "base_uri": "https://localhost:8080/",
          "height": 299
        },
        "id": "SFlMgiOiNHXE",
        "outputId": "3d449100-65c9-4400-9a69-3bd4a544e910"
      },
      "execution_count": null,
      "outputs": [
        {
          "output_type": "execute_result",
          "data": {
            "text/plain": [
              "<matplotlib.legend.Legend at 0x7f665ef81e90>"
            ]
          },
          "metadata": {},
          "execution_count": 66
        },
        {
          "output_type": "display_data",
          "data": {
            "image/png": "[encoded data removed]",
            "text/plain": [
              "<Figure size 432x288 with 1 Axes>"
            ]
          },
          "metadata": {
            "needs_background": "light"
          }
        }
      ]
    },
    {
      "cell_type": "code",
      "source": [
        "test_loss, test_acc = model.evaluate(X_test,y_test, verbose=2)"
      ],
      "metadata": {
        "papermill": {
          "duration": 3.639907,
          "end_time": "2021-05-25T08:37:09.091526",
          "exception": false,
          "start_time": "2021-05-25T08:37:05.451619",
          "status": "completed"
        },
        "tags": [],
        "execution": {
          "iopub.status.busy": "2021-12-26T04:01:06.127536Z",
          "iopub.execute_input": "2021-12-26T04:01:06.128434Z",
          "iopub.status.idle": "2021-12-26T04:01:08.521595Z",
          "shell.execute_reply.started": "2021-12-26T04:01:06.128367Z",
          "shell.execute_reply": "2021-12-26T04:01:08.520397Z"
        },
        "trusted": true,
        "colab": {
          "base_uri": "https://localhost:8080/"
        },
        "id": "KnQFcBkENHXE",
        "outputId": "0aca380b-11d2-4990-9d0f-7051c17e58cd"
      },
      "execution_count": null,
      "outputs": [
        {
          "output_type": "stream",
          "name": "stdout",
          "text": [
            "149/149 - 1s - loss: 0.2510 - accuracy: 0.8880 - 639ms/epoch - 4ms/step\n"
          ]
        }
      ]
    },
    {
      "cell_type": "markdown",
      "source": [
        "# Sample Testing"
      ],
      "metadata": {
        "papermill": {
          "duration": 1.647264,
          "end_time": "2021-05-25T08:37:12.350196",
          "exception": false,
          "start_time": "2021-05-25T08:37:10.702932",
          "status": "completed"
        },
        "tags": [],
        "id": "qSfU-TFJNHXF"
      }
    },
    {
      "cell_type": "code",
      "source": [
        "predictions = model.predict(X_test)"
      ],
      "metadata": {
        "papermill": {
          "duration": 3.703908,
          "end_time": "2021-05-25T08:37:17.67576",
          "exception": false,
          "start_time": "2021-05-25T08:37:13.971852",
          "status": "completed"
        },
        "tags": [],
        "execution": {
          "iopub.status.busy": "2021-12-26T04:01:08.523472Z",
          "iopub.execute_input": "2021-12-26T04:01:08.523899Z",
          "iopub.status.idle": "2021-12-26T04:01:10.251248Z",
          "shell.execute_reply.started": "2021-12-26T04:01:08.523847Z",
          "shell.execute_reply": "2021-12-26T04:01:10.250238Z"
        },
        "trusted": true,
        "id": "42Gqdri_NHXF"
      },
      "execution_count": null,
      "outputs": []
    },
    {
      "cell_type": "code",
      "source": [
        "gen={0:'Male',1:'Female'}\n",
        "for i in range(10):\n",
        "    plt.figure(figsize=(5,5))\n",
        "    plt.xticks([])\n",
        "    plt.yticks([])\n",
        "    plt.grid(False)\n",
        "    plt.imshow(X_test[i].reshape(48,48))\n",
        "    if predictions[i].round(0)==0:\n",
        "        plt.xlabel(\"Actual: \"+str(gen[y_test.iloc[i]])+'\\n'+\"Prediction: Male\")\n",
        "    else:\n",
        "        plt.xlabel(\"Actual: \"+str(gen[y_test.iloc[i]])+'\\n'+\"Prediction: Female\")\n",
        "plt.show()"
      ],
      "metadata": {
        "papermill": {
          "duration": 2.247533,
          "end_time": "2021-05-25T08:37:21.532402",
          "exception": false,
          "start_time": "2021-05-25T08:37:19.284869",
          "status": "completed"
        },
        "tags": [],
        "execution": {
          "iopub.status.busy": "2021-12-26T04:01:10.25271Z",
          "iopub.execute_input": "2021-12-26T04:01:10.252971Z",
          "iopub.status.idle": "2021-12-26T04:01:11.24585Z",
          "shell.execute_reply.started": "2021-12-26T04:01:10.25294Z",
          "shell.execute_reply": "2021-12-26T04:01:11.244628Z"
        },
        "trusted": true,
        "colab": {
          "base_uri": "https://localhost:8080/",
          "height": 1000
        },
        "id": "Z1FDPCiwNHXF",
        "outputId": "8c645fef-c618-4784-ae4d-a9aca9445156"
      },
      "execution_count": null,
      "outputs": [
        {
          "output_type": "display_data",
          "data": {
            "image/png": "[encoded data removed]",
            "text/plain": [
              "<Figure size 360x360 with 1 Axes>"
            ]
          },
          "metadata": {}
        },
        {
          "output_type": "display_data",
          "data": {
            "image/png": "[encoded data removed]",
            "text/plain": [
              "<Figure size 360x360 with 1 Axes>"
            ]
          },
          "metadata": {}
        },
        {
          "output_type": "display_data",
          "data": {
            "image/png": "[encoded data removed]",
            "text/plain": [
              "<Figure size 360x360 with 1 Axes>"
            ]
          },
          "metadata": {}
        },
        {
          "output_type": "display_data",
          "data": {
            "image/png": "[encoded data removed]",
            "text/plain": [
              "<Figure size 360x360 with 1 Axes>"
            ]
          },
          "metadata": {}
        },
        {
          "output_type": "display_data",
          "data": {
            "image/png": "[encoded data removed]",
            "text/plain": [
              "<Figure size 360x360 with 1 Axes>"
            ]
          },
          "metadata": {}
        },
        {
          "output_type": "display_data",
          "data": {
            "image/png": "[encoded data removed]",
            "text/plain": [
              "<Figure size 360x360 with 1 Axes>"
            ]
          },
          "metadata": {}
        },
        {
          "output_type": "display_data",
          "data": {
            "image/png": "[encoded data removed]",
            "text/plain": [
              "<Figure size 360x360 with 1 Axes>"
            ]
          },
          "metadata": {}
        },
        {
          "output_type": "display_data",
          "data": {
            "image/png": "[encoded data removed]",
            "text/plain": [
              "<Figure size 360x360 with 1 Axes>"
            ]
          },
          "metadata": {}
        },
        {
          "output_type": "display_data",
          "data": {
            "image/png": "[encoded data removed]",
            "text/plain": [
              "<Figure size 360x360 with 1 Axes>"
            ]
          },
          "metadata": {}
        },
        {
          "output_type": "display_data",
          "data": {
            "image/png": "[encoded data removed]",
            "text/plain": [
              "<Figure size 360x360 with 1 Axes>"
            ]
          },
          "metadata": {}
        }
      ]
    },
    {
      "cell_type": "markdown",
      "source": [
        "# Metrics"
      ],
      "metadata": {
        "id": "YL4gknBBKO7m"
      }
    },
    {
      "cell_type": "code",
      "source": [
        "predictions = [np.round_(p) for p in predictions]\n",
        "print(\"Accuracy score : \", accuracy_score(predictions, y_test))\n",
        "\n",
        "matrix = tf.math.confusion_matrix(labels=y_test, predictions=predictions).numpy()\n",
        "print(\"\\nConfusion matrix:\\n\", matrix)"
      ],
      "metadata": {
        "colab": {
          "base_uri": "https://localhost:8080/"
        },
        "id": "RPHyiLn1CZmO",
        "outputId": "a357d85c-61f2-4515-d2fd-071efcf891f2"
      },
      "execution_count": null,
      "outputs": [
        {
          "output_type": "stream",
          "name": "stdout",
          "text": [
            "Accuracy score :  0.8879983125922801\n",
            "\n",
            "Confusion matrix:\n",
            " [[2228  259]\n",
            " [ 272 1982]]\n"
          ]
        }
      ]
    },
    {
      "cell_type": "code",
      "source": [
        "figure = plt.figure(figsize=(6, 5))\n",
        "sns.heatmap(matrix, annot=True, fmt=\"d\", cmap=plt.cm.Blues)\n",
        "plt.tight_layout()\n",
        "plt.ylabel('True label')\n",
        "plt.xlabel('Predicted label')\n",
        "plt.show()"
      ],
      "metadata": {
        "colab": {
          "base_uri": "https://localhost:8080/",
          "height": 383
        },
        "id": "voOk1udHHklV",
        "outputId": "467468fc-fad6-40e3-c175-9a62d9af35c6"
      },
      "execution_count": null,
      "outputs": [
        {
          "output_type": "display_data",
          "data": {
            "image/png": "[encoded data removed]",
            "text/plain": [
              "<Figure size 432x360 with 2 Axes>"
            ]
          },
          "metadata": {
            "needs_background": "light"
          }
        }
      ]
    },
    {
      "cell_type": "code",
      "source": [
        "print(\"Classification report :\\n\\n\", classification_report(y_test, predictions))"
      ],
      "metadata": {
        "colab": {
          "base_uri": "https://localhost:8080/"
        },
        "id": "zgzUoA_SJ1Ux",
        "outputId": "e261eb52-5e21-4e85-c731-3dc2b94cd2fb"
      },
      "execution_count": null,
      "outputs": [
        {
          "output_type": "stream",
          "name": "stdout",
          "text": [
            "Classification report :\n",
            "\n",
            "               precision    recall  f1-score   support\n",
            "\n",
            "           0       0.89      0.90      0.89      2487\n",
            "           1       0.88      0.88      0.88      2254\n",
            "\n",
            "    accuracy                           0.89      4741\n",
            "   macro avg       0.89      0.89      0.89      4741\n",
            "weighted avg       0.89      0.89      0.89      4741\n",
            "\n"
          ]
        }
      ]
    },
    {
      "cell_type": "markdown",
      "source": [
        "# MODEL SAVING"
      ],
      "metadata": {
        "id": "mEcQ7yMvDZZc"
      }
    },
    {
      "cell_type": "code",
      "source": [
        "model.save(\"/content/drive/MyDrive/genderDetect/gaa_model.h5\")"
      ],
      "metadata": {
        "id": "6Pd-5EYqKURt"
      },
      "execution_count": null,
      "outputs": []
    },
    {
      "cell_type": "markdown",
      "source": [
        "# Result\n",
        " ### Training Accuracy: 91.8% \n",
        " ### Testing Accuracy: 89.4%"
      ],
      "metadata": {
        "papermill": {
          "duration": 1.627719,
          "end_time": "2021-05-25T08:37:24.84996",
          "exception": false,
          "start_time": "2021-05-25T08:37:23.222241",
          "status": "completed"
        },
        "tags": [],
        "id": "GR3ifxJ0NHXH"
      }
    },
    {
      "cell_type": "markdown",
      "source": [
        ""
      ],
      "metadata": {
        "papermill": {
          "duration": 1.675365,
          "end_time": "2021-05-25T08:37:28.170457",
          "exception": false,
          "start_time": "2021-05-25T08:37:26.495092",
          "status": "completed"
        },
        "tags": [],
        "id": "_-It0YfJNHXH"
      }
    }
  ]
}